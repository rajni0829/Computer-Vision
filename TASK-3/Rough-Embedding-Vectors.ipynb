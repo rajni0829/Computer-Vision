{
  "nbformat": 4,
  "nbformat_minor": 0,
  "metadata": {
    "colab": {
      "name": "Extracting Frames From Video Dataset.ipynb",
      "provenance": [],
      "collapsed_sections": [],
      "mount_file_id": "1lzPIQy_mq3CQPbkBQ_Nii2MoZYjIJV5s",
      "authorship_tag": "ABX9TyPHPtW6yk/zRw1NsM+Wm08w",
      "include_colab_link": true
    },
    "kernelspec": {
      "name": "python3",
      "display_name": "Python 3"
    },
    "language_info": {
      "name": "python"
    }
  },
  "cells": [
    {
      "cell_type": "markdown",
      "metadata": {
        "id": "view-in-github",
        "colab_type": "text"
      },
      "source": [
        "<a href=\"https://colab.research.google.com/github/rajni0829/Computer-Vision-Prac/blob/main/Rough-Embedding-Vectors.ipynb\" target=\"_parent\"><img src=\"https://colab.research.google.com/assets/colab-badge.svg\" alt=\"Open In Colab\"/></a>"
      ]
    },
    {
      "cell_type": "markdown",
      "source": [
        "## TASK - 3"
      ],
      "metadata": {
        "id": "_0b8qMksgofZ"
      }
    },
    {
      "cell_type": "markdown",
      "source": [
        "**Embedding Vector**"
      ],
      "metadata": {
        "id": "eBhLFCM5gP8Q"
      }
    },
    {
      "cell_type": "code",
      "source": [
        "\n",
        "! pip install --no-deps tensorflow==1.15.3\n",
        "! pip install --no-deps keras==2.2.4\n"
      ],
      "metadata": {
        "id": "Y2c0ljUmy1I8"
      },
      "execution_count": 1,
      "outputs": []
    },
    {
      "cell_type": "code",
      "source": [
        "from absl import logging\n",
        "from pathlib import Path\n",
        "\n",
        "from tensorflow_datasets.core import dataset_utils\n",
        "from tensorflow_datasets.core import features as features_lib\n",
        "from PIL import Image\n",
        "# from efficientnet.preprocessing import center_crop_and_resize\n",
        "import numpy as np\n",
        "import tensorflow as tf\n",
        "\n",
        "import tensorflow_datasets as tfds\n",
        "# import fire\n",
        "import logging\n",
        "\n",
        "LOGGER = logging.getLogger(__name__)"
      ],
      "metadata": {
        "id": "hvsJOwUgy1Lm"
      },
      "execution_count": 4,
      "outputs": []
    },
    {
      "cell_type": "code",
      "source": [
        "def read_embeddings(path):\n",
        "    emb = pq.read_table(path).to_pandas()\n",
        "    id_to_name = {k: v.decode(\"utf-8\") for k, v in enumerate(list(emb[\"image_name\"]))}\n",
        "    name_to_id = {v: k for k, v in id_to_name.items()}\n",
        "    embgood = np.stack(emb[\"embedding\"].to_numpy())\n",
        "    return [id_to_name, name_to_id, embgood]\n",
        "\n"
      ],
      "metadata": {
        "id": "KWCNPA2Cy1PA"
      },
      "execution_count": 5,
      "outputs": []
    },
    {
      "cell_type": "code",
      "source": [
        "\n",
        "def embeddings_to_numpy(input_path, output_path):\n",
        "    emb = pq.read_table(input_path).to_pandas()\n",
        "\n",
        "    Path(output_path).mkdir(parents=True, exist_ok=True)\n",
        "    id_name = [{\"id\": k, \"name\": v.decode(\"utf-8\")} for k, v in enumerate(list(emb[\"image_name\"]))]\n",
        "    json.dump(id_name, open(output_path + \"/id_name.json\", \"w\"))\n",
        "\n",
        "    emb = np.stack(emb[\"embedding\"].to_numpy())\n",
        "    np.save(open(output_path + \"/embedding.npy\", \"wb\"), emb)\n"
      ],
      "metadata": {
        "id": "8ALNTtK40DOa"
      },
      "execution_count": 6,
      "outputs": []
    }
  ]
}