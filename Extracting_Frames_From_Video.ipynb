{
  "nbformat": 4,
  "nbformat_minor": 0,
  "metadata": {
    "colab": {
      "name": "Extracting Frames From Video.ipynb",
      "provenance": [],
      "collapsed_sections": [],
      "mount_file_id": "1lzPIQy_mq3CQPbkBQ_Nii2MoZYjIJV5s",
      "authorship_tag": "ABX9TyNQ6bCtF/hsRX1tUbfRwUwv",
      "include_colab_link": true
    },
    "kernelspec": {
      "name": "python3",
      "display_name": "Python 3"
    },
    "language_info": {
      "name": "python"
    }
  },
  "cells": [
    {
      "cell_type": "markdown",
      "metadata": {
        "id": "view-in-github",
        "colab_type": "text"
      },
      "source": [
        "<a href=\"https://colab.research.google.com/github/rajni0829/Object-Detection-From-Video/blob/main/Extracting_Frames_From_Video.ipynb\" target=\"_parent\"><img src=\"https://colab.research.google.com/assets/colab-badge.svg\" alt=\"Open In Colab\"/></a>"
      ]
    },
    {
      "cell_type": "markdown",
      "source": [
        "**Extracting Frames/Segments From Video**"
      ],
      "metadata": {
        "id": "eBhLFCM5gP8Q"
      }
    },
    {
      "cell_type": "code",
      "source": [
        "import os\n",
        "import numpy as np\n",
        "import cv2\n",
        "from glob import glob\n"
      ],
      "metadata": {
        "id": "PQ8o5y_FZsRg"
      },
      "execution_count": 4,
      "outputs": []
    },
    {
      "cell_type": "code",
      "source": [
        "\n",
        "def save_frame(video_path, save_dir, gap=10):\n",
        "    name = video_path.split(\"/\")[-1].split(\".\")[0]\n",
        "    save_path = os.path.join(save_dir, name)\n",
        "    create_dir(save_path)\n",
        "\n",
        "    cap = cv2.VideoCapture(video_path)\n",
        "    idx = 0\n",
        "\n",
        "    while True:\n",
        "        ret, frame = cap.read()\n",
        "\n",
        "        if ret == False:\n",
        "            cap.release()\n",
        "            break\n",
        "\n",
        "        if idx == 0:\n",
        "            cv2.imwrite(f\"{save_path}/{idx}.png\", frame)\n",
        "        else:\n",
        "            if idx % gap == 0:\n",
        "                cv2.imwrite(f\"{save_path}/{idx}.png\", frame)\n",
        "\n",
        "        idx += 1"
      ],
      "metadata": {
        "id": "pPRZq-vXgI3E"
      },
      "execution_count": 5,
      "outputs": []
    },
    {
      "cell_type": "code",
      "source": [
        "\n",
        "def create_dir(path):\n",
        "    try:\n",
        "        if not os.path.exists(path):\n",
        "            os.makedirs(path)\n",
        "    except OSError:\n",
        "        print(f\"ERROR: creating directory with name {path}\")\n",
        "\n",
        "\n",
        "\n",
        "if __name__ == \"__main__\":\n",
        "    video_paths = glob(\"/content/drive/MyDrive/Dataset_Vdo/Elon_Musk.mp4\")\n",
        "    save_dir = \"save\"\n",
        "\n",
        "    for path in video_paths:\n",
        "        save_frame(path, save_dir, gap=10)"
      ],
      "metadata": {
        "id": "Y6AgQWdiZIYZ"
      },
      "execution_count": 6,
      "outputs": []
    }
  ]
}